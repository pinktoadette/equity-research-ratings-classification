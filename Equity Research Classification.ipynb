{
 "cells": [
  {
   "cell_type": "markdown",
   "metadata": {},
   "source": [
    "# Equity Research Report - Classification Ratings\n",
    "\n",
    "Every equity researcher examines a company's financial statement. Each statement maybe adjusted to reflect certain items (depending on the industry), such as adding back non-recurring items, adjustment for depreciation and amortization. Some of these adjustments are necessary and close attention to SEC filing on the footnotes is necessary.\n",
    "\n",
    "With that in mind, is it possible to predict an earnings classification ratings based on financial statements and the researchers' output? \n",
    "\n",
    "This notebook will analyze over 10 year CFRA reports with each quarterly filings."
   ]
  },
  {
   "cell_type": "markdown",
   "metadata": {},
   "source": [
    "### Process\n",
    "\n",
    "- Find all equity research report and its corresponding financial statement reportings\n",
    "- With domain knowledge, select necessary features on the 3 statements to determine what is necessary\n",
    "- (future) SEC started providing footnotes. We will need to map the footnote ID to the company\n",
    "\n",
    "The ratings are broken down into another feature called `delt`. This occurs when an analyst indicates a change in position. For example: \"...maintain buy\", \"...upgrade from buy to strong buy\", \"... downgrade from strong buy to buy\" etc. \n"
   ]
  },
  {
   "cell_type": "markdown",
   "metadata": {},
   "source": [
    "### Word on Models\n",
    "This model is simplified to first test out certain features.\n",
    "\n",
    "- There are imbalance problems (of course!) \n",
    "- Imbalance occurs when one class is significantly more or less than other.\n",
    "- Test for 4 classification models (Logistic, gradient boost, random forest, decision trees)"
   ]
  },
  {
   "cell_type": "code",
   "execution_count": 16,
   "metadata": {},
   "outputs": [],
   "source": [
    "import pandas as pd\n",
    "import numpy as np\n",
    "\n",
    "# visualization imports\n",
    "import matplotlib.pyplot as plt\n",
    "import seaborn as sns\n",
    "plt.style.use('fivethirtyeight')\n",
    "\n",
    "%matplotlib inline\n",
    "\n",
    "# modelling imports\n",
    "\n",
    "from sklearn.model_selection import TimeSeriesSplit\n",
    "from sklearn.metrics import precision_recall_fscore_support, roc_auc_score, confusion_matrix,accuracy_score\n",
    "from sklearn.preprocessing import StandardScaler\n",
    "from sklearn. model_selection import cross_val_score\n",
    "\n",
    "from sklearn.neighbors import KNeighborsClassifier\n",
    "from sklearn.tree import DecisionTreeClassifier\n",
    "from sklearn.ensemble import RandomForestClassifier\n",
    "from sklearn.linear_model import LogisticRegression\n",
    "from sklearn.naive_bayes import GaussianNB\n",
    "from sklearn.svm import SVC\n",
    "\n",
    "from imblearn.over_sampling import SMOTE\n",
    "import xgboost as xgb\n",
    "\n",
    "from sklearn.model_selection import learning_curve"
   ]
  },
  {
   "cell_type": "code",
   "execution_count": 25,
   "metadata": {},
   "outputs": [],
   "source": [
    "# data was preorganized and cleaned by matching equity research report ticker/rating to 3 statements\n",
    "df = pd.read_csv(\"./../all_simplified_ver_data.csv\")\n",
    "features = ['Revenue', 'Cost of Revenue',\n",
    "       'Net Income', 'Gross Profit', 'Operating Expenses',\n",
    "       'Selling, General & Administrative', 'Research & Development',\n",
    "       'Depreciation & Amortization_x', 'Operating Income (Loss)',\n",
    "       'Non-Operating Income (Loss)', 'Interest Expense, Net',\n",
    "       'Net Extraordinary Gains (Losses)',\n",
    "       'Cash, Cash Equivalents & Short Term Investments',\n",
    "       'Accounts & Notes Receivable', 'Inventories', 'Total Current Assets',\n",
    "       'Property, Plant & Equipment, Net',\n",
    "       'Long Term Investments & Receivables', 'Other Long Term Assets',\n",
    "       'Total Noncurrent Assets', 'Total Assets', 'Payables & Accruals',\n",
    "       'Short Term Debt', 'Total Current Liabilities', 'Long Term Debt',\n",
    "       'Total Noncurrent Liabilities',\n",
    "       'Share Capital & Additional Paid-In Capital', 'Treasury Stock',\n",
    "       'Retained Earnings', 'Total Equity', 'Net Income/Starting Line',\n",
    "       'Depreciation & Amortization_y', 'Non-Cash Items',\n",
    "       'Change in Working Capital', 'Change in Accounts Receivable',\n",
    "       'Change in Inventories', 'Change in Accounts Payable',\n",
    "       'Change in Other', 'Net Cash from Operating Activities',\n",
    "       'Change in Fixed Assets & Intangibles',\n",
    "       'Net Change in Long Term Investment',\n",
    "       'Net Cash from Acquisitions & Divestitures',\n",
    "       'Net Cash from Investing Activities', 'Dividends Paid',\n",
    "       'Cash from (Repayment of) Debt', 'Cash from (Repurchase of) Equity',\n",
    "       'Net Cash from Financing Activities', 'Net Change in Cash',\n",
    "    'Rating_Change']\n",
    "target ='Rating'"
   ]
  },
  {
   "cell_type": "code",
   "execution_count": 27,
   "metadata": {},
   "outputs": [],
   "source": [
    "# We will fill out some absurb value for NaN\n",
    "df[features] = df[features].fillna(df.groupby('Ticker')[features].transform('mean'))\n",
    "df['Rating_Change']=df['Rating_Change'].fillna(1000)\n",
    "df['Rating'] = df['Rating'].fillna(1000)\n",
    "df[features] = df[features].fillna(0)"
   ]
  },
  {
   "cell_type": "code",
   "execution_count": 28,
   "metadata": {},
   "outputs": [],
   "source": [
    "df_hold = df[df['Report Date'] >= '2019-01-01']\n",
    "df_train = df[df['Report Date'] < '2019-01-01']\n",
    "X = df_train[features]\n",
    "y = df_train[target]"
   ]
  },
  {
   "cell_type": "markdown",
   "metadata": {},
   "source": [
    "### Imbalance"
   ]
  },
  {
   "cell_type": "code",
   "execution_count": null,
   "metadata": {},
   "outputs": [],
   "source": [
    "oversample = SMOTE()\n",
    "X, y = oversample.fit_resample(X, y)"
   ]
  },
  {
   "cell_type": "markdown",
   "metadata": {},
   "source": [
    "### CV Classificaiton Models\n",
    "Let's see which model performs the best.\n",
    "\n",
    "Since financial data is time series dependent, we will split the dataset using `TimeSeriesSplit`. `TimeSeriesSplit` allows us to split the data but based on a sequential order as to kfolds isnt."
   ]
  },
  {
   "cell_type": "code",
   "execution_count": 30,
   "metadata": {},
   "outputs": [],
   "source": [
    "tscv = TimeSeriesSplit(n_splits=10)"
   ]
  },
  {
   "cell_type": "markdown",
   "metadata": {},
   "source": [
    "#### Each model is placed into a dictionary"
   ]
  },
  {
   "cell_type": "code",
   "execution_count": 31,
   "metadata": {},
   "outputs": [],
   "source": [
    "def cross_validation_folds(X, y, test_size=0.25, random_state=71, n_splits=5):\n",
    "    cv = TimeSeriesSplit(n_splits=5).split(y)\n",
    "    tscv = TimeSeriesSplit(max_train_size=None, n_splits=n_splits)\n",
    "    result = []\n",
    "    models = { \"logistic\": LogisticRegression(),\"xgb\":xgb.XGBClassifier(n_estimators=550, seed=0),  \"random_forest\":RandomForestClassifier(n_estimators=25), \"Decision_Tree\":DecisionTreeClassifier() }\n",
    "    iteration = 1\n",
    "    \n",
    "    for train_index, test_index in tscv.split(X):\n",
    "        print(\"TRAIN: \", train_index, \"TEST:\", test_index)\n",
    "        X_train, X_test = X.iloc[train_index], X.iloc[test_index]\n",
    "        y_train, y_test = y.iloc[train_index], y.iloc[test_index]\n",
    "        \n",
    "        for name, model in models.items():\n",
    "            model.fit(X_train, y_train)\n",
    "            y_predict=model.predict(X_test)\n",
    "            acc_score = accuracy_score(y_test, y_predict)\n",
    "            precision, recall, f1, _ = precision_recall_fscore_support(y_test, y_predict, average='macro')\n",
    "            result.append({'iter':iteration, 'model': name, 'acc_score': acc_score, 'precision': precision, 'recall': recall, 'f1': f1 })\n",
    "        iteration += 1\n",
    "    return pd.DataFrame(result)    "
   ]
  },
  {
   "cell_type": "code",
   "execution_count": null,
   "metadata": {},
   "outputs": [
    {
     "name": "stdout",
     "output_type": "stream",
     "text": [
      "TRAIN:  [    0     1     2 ... 11620 11621 11622] TEST: [11623 11624 11625 ... 23239 23240 23241]\n"
     ]
    },
    {
     "name": "stderr",
     "output_type": "stream",
     "text": [
      "c:\\users\\lynnj\\appdata\\local\\programs\\python\\python37\\lib\\site-packages\\sklearn\\linear_model\\_logistic.py:764: ConvergenceWarning: lbfgs failed to converge (status=1):\n",
      "STOP: TOTAL NO. of ITERATIONS REACHED LIMIT.\n",
      "\n",
      "Increase the number of iterations (max_iter) or scale the data as shown in:\n",
      "    https://scikit-learn.org/stable/modules/preprocessing.html\n",
      "Please also refer to the documentation for alternative solver options:\n",
      "    https://scikit-learn.org/stable/modules/linear_model.html#logistic-regression\n",
      "  extra_warning_msg=_LOGISTIC_SOLVER_CONVERGENCE_MSG)\n",
      "c:\\users\\lynnj\\appdata\\local\\programs\\python\\python37\\lib\\site-packages\\sklearn\\metrics\\_classification.py:1221: UndefinedMetricWarning: Precision and F-score are ill-defined and being set to 0.0 in labels with no predicted samples. Use `zero_division` parameter to control this behavior.\n",
      "  _warn_prf(average, modifier, msg_start, len(result))\n",
      "c:\\users\\lynnj\\appdata\\local\\programs\\python\\python37\\lib\\site-packages\\sklearn\\metrics\\_classification.py:1221: UndefinedMetricWarning: Precision and F-score are ill-defined and being set to 0.0 in labels with no predicted samples. Use `zero_division` parameter to control this behavior.\n",
      "  _warn_prf(average, modifier, msg_start, len(result))\n"
     ]
    },
    {
     "name": "stdout",
     "output_type": "stream",
     "text": [
      "TRAIN:  [    0     1     2 ... 23239 23240 23241] TEST: [23242 23243 23244 ... 34858 34859 34860]\n"
     ]
    },
    {
     "name": "stderr",
     "output_type": "stream",
     "text": [
      "c:\\users\\lynnj\\appdata\\local\\programs\\python\\python37\\lib\\site-packages\\sklearn\\linear_model\\_logistic.py:764: ConvergenceWarning: lbfgs failed to converge (status=1):\n",
      "STOP: TOTAL NO. of ITERATIONS REACHED LIMIT.\n",
      "\n",
      "Increase the number of iterations (max_iter) or scale the data as shown in:\n",
      "    https://scikit-learn.org/stable/modules/preprocessing.html\n",
      "Please also refer to the documentation for alternative solver options:\n",
      "    https://scikit-learn.org/stable/modules/linear_model.html#logistic-regression\n",
      "  extra_warning_msg=_LOGISTIC_SOLVER_CONVERGENCE_MSG)\n",
      "c:\\users\\lynnj\\appdata\\local\\programs\\python\\python37\\lib\\site-packages\\sklearn\\metrics\\_classification.py:1221: UndefinedMetricWarning: Precision and F-score are ill-defined and being set to 0.0 in labels with no predicted samples. Use `zero_division` parameter to control this behavior.\n",
      "  _warn_prf(average, modifier, msg_start, len(result))\n",
      "c:\\users\\lynnj\\appdata\\local\\programs\\python\\python37\\lib\\site-packages\\sklearn\\metrics\\_classification.py:1221: UndefinedMetricWarning: Recall and F-score are ill-defined and being set to 0.0 in labels with no true samples. Use `zero_division` parameter to control this behavior.\n",
      "  _warn_prf(average, modifier, msg_start, len(result))\n",
      "c:\\users\\lynnj\\appdata\\local\\programs\\python\\python37\\lib\\site-packages\\sklearn\\metrics\\_classification.py:1221: UndefinedMetricWarning: Recall and F-score are ill-defined and being set to 0.0 in labels with no true samples. Use `zero_division` parameter to control this behavior.\n",
      "  _warn_prf(average, modifier, msg_start, len(result))\n",
      "c:\\users\\lynnj\\appdata\\local\\programs\\python\\python37\\lib\\site-packages\\sklearn\\metrics\\_classification.py:1221: UndefinedMetricWarning: Recall and F-score are ill-defined and being set to 0.0 in labels with no true samples. Use `zero_division` parameter to control this behavior.\n",
      "  _warn_prf(average, modifier, msg_start, len(result))\n"
     ]
    },
    {
     "name": "stdout",
     "output_type": "stream",
     "text": [
      "TRAIN:  [    0     1     2 ... 34858 34859 34860] TEST: [34861 34862 34863 ... 46477 46478 46479]\n"
     ]
    },
    {
     "name": "stderr",
     "output_type": "stream",
     "text": [
      "c:\\users\\lynnj\\appdata\\local\\programs\\python\\python37\\lib\\site-packages\\sklearn\\linear_model\\_logistic.py:764: ConvergenceWarning: lbfgs failed to converge (status=1):\n",
      "STOP: TOTAL NO. of ITERATIONS REACHED LIMIT.\n",
      "\n",
      "Increase the number of iterations (max_iter) or scale the data as shown in:\n",
      "    https://scikit-learn.org/stable/modules/preprocessing.html\n",
      "Please also refer to the documentation for alternative solver options:\n",
      "    https://scikit-learn.org/stable/modules/linear_model.html#logistic-regression\n",
      "  extra_warning_msg=_LOGISTIC_SOLVER_CONVERGENCE_MSG)\n",
      "c:\\users\\lynnj\\appdata\\local\\programs\\python\\python37\\lib\\site-packages\\sklearn\\metrics\\_classification.py:1221: UndefinedMetricWarning: Recall and F-score are ill-defined and being set to 0.0 in labels with no true samples. Use `zero_division` parameter to control this behavior.\n",
      "  _warn_prf(average, modifier, msg_start, len(result))\n",
      "c:\\users\\lynnj\\appdata\\local\\programs\\python\\python37\\lib\\site-packages\\sklearn\\metrics\\_classification.py:1221: UndefinedMetricWarning: Recall and F-score are ill-defined and being set to 0.0 in labels with no true samples. Use `zero_division` parameter to control this behavior.\n",
      "  _warn_prf(average, modifier, msg_start, len(result))\n",
      "c:\\users\\lynnj\\appdata\\local\\programs\\python\\python37\\lib\\site-packages\\sklearn\\metrics\\_classification.py:1221: UndefinedMetricWarning: Recall and F-score are ill-defined and being set to 0.0 in labels with no true samples. Use `zero_division` parameter to control this behavior.\n",
      "  _warn_prf(average, modifier, msg_start, len(result))\n"
     ]
    },
    {
     "name": "stdout",
     "output_type": "stream",
     "text": [
      "TRAIN:  [    0     1     2 ... 46477 46478 46479] TEST: [46480 46481 46482 ... 58096 58097 58098]\n"
     ]
    },
    {
     "name": "stderr",
     "output_type": "stream",
     "text": [
      "c:\\users\\lynnj\\appdata\\local\\programs\\python\\python37\\lib\\site-packages\\sklearn\\linear_model\\_logistic.py:764: ConvergenceWarning: lbfgs failed to converge (status=1):\n",
      "STOP: TOTAL NO. of ITERATIONS REACHED LIMIT.\n",
      "\n",
      "Increase the number of iterations (max_iter) or scale the data as shown in:\n",
      "    https://scikit-learn.org/stable/modules/preprocessing.html\n",
      "Please also refer to the documentation for alternative solver options:\n",
      "    https://scikit-learn.org/stable/modules/linear_model.html#logistic-regression\n",
      "  extra_warning_msg=_LOGISTIC_SOLVER_CONVERGENCE_MSG)\n",
      "c:\\users\\lynnj\\appdata\\local\\programs\\python\\python37\\lib\\site-packages\\sklearn\\metrics\\_classification.py:1221: UndefinedMetricWarning: Precision and F-score are ill-defined and being set to 0.0 in labels with no predicted samples. Use `zero_division` parameter to control this behavior.\n",
      "  _warn_prf(average, modifier, msg_start, len(result))\n",
      "c:\\users\\lynnj\\appdata\\local\\programs\\python\\python37\\lib\\site-packages\\sklearn\\metrics\\_classification.py:1221: UndefinedMetricWarning: Recall and F-score are ill-defined and being set to 0.0 in labels with no true samples. Use `zero_division` parameter to control this behavior.\n",
      "  _warn_prf(average, modifier, msg_start, len(result))\n",
      "c:\\users\\lynnj\\appdata\\local\\programs\\python\\python37\\lib\\site-packages\\sklearn\\metrics\\_classification.py:1221: UndefinedMetricWarning: Recall and F-score are ill-defined and being set to 0.0 in labels with no true samples. Use `zero_division` parameter to control this behavior.\n",
      "  _warn_prf(average, modifier, msg_start, len(result))\n",
      "c:\\users\\lynnj\\appdata\\local\\programs\\python\\python37\\lib\\site-packages\\sklearn\\metrics\\_classification.py:1221: UndefinedMetricWarning: Recall and F-score are ill-defined and being set to 0.0 in labels with no true samples. Use `zero_division` parameter to control this behavior.\n",
      "  _warn_prf(average, modifier, msg_start, len(result))\n"
     ]
    },
    {
     "name": "stdout",
     "output_type": "stream",
     "text": [
      "TRAIN:  [    0     1     2 ... 58096 58097 58098] TEST: [58099 58100 58101 ... 69715 69716 69717]\n"
     ]
    },
    {
     "name": "stderr",
     "output_type": "stream",
     "text": [
      "c:\\users\\lynnj\\appdata\\local\\programs\\python\\python37\\lib\\site-packages\\sklearn\\linear_model\\_logistic.py:764: ConvergenceWarning: lbfgs failed to converge (status=1):\n",
      "STOP: TOTAL NO. of ITERATIONS REACHED LIMIT.\n",
      "\n",
      "Increase the number of iterations (max_iter) or scale the data as shown in:\n",
      "    https://scikit-learn.org/stable/modules/preprocessing.html\n",
      "Please also refer to the documentation for alternative solver options:\n",
      "    https://scikit-learn.org/stable/modules/linear_model.html#logistic-regression\n",
      "  extra_warning_msg=_LOGISTIC_SOLVER_CONVERGENCE_MSG)\n",
      "c:\\users\\lynnj\\appdata\\local\\programs\\python\\python37\\lib\\site-packages\\sklearn\\metrics\\_classification.py:1221: UndefinedMetricWarning: Recall and F-score are ill-defined and being set to 0.0 in labels with no true samples. Use `zero_division` parameter to control this behavior.\n",
      "  _warn_prf(average, modifier, msg_start, len(result))\n"
     ]
    }
   ],
   "source": [
    "model_result = cross_validation_folds(X,y)\n",
    "model_result.sort_values(by=\"f1\", ascending=False)"
   ]
  },
  {
   "cell_type": "markdown",
   "metadata": {},
   "source": [
    "### Taking a closer look at xgboost\n",
    "For my own interest"
   ]
  },
  {
   "cell_type": "code",
   "execution_count": null,
   "metadata": {},
   "outputs": [],
   "source": [
    "#running xgboost\n",
    "xg_result = []\n",
    "xg_coef = []\n",
    "\n",
    "for train_index, test_index in tscv.split(X):\n",
    "    print(\"TRAIN: \", train_index, \"TEST:\", test_index)\n",
    "    X_train, X_test = X.iloc[train_index], X.iloc[test_index]\n",
    "    y_train, y_test = y.iloc[train_index], y.iloc[test_index]\n",
    "\n",
    "    model = xgb.XGBClassifier(objective='binary:logistic', booster='gbtree', max_leaves=7)\n",
    "    eval_set = [(X_test, y_test)]\n",
    "    model.fit(X_train, y_train, early_stopping_rounds=10,eval_set=eval_set)\n",
    "    y_predict=model.predict(X_test)\n",
    "    acc_score = accuracy_score(y_test, y_predict)\n",
    "    precision, recall, f1, _ = precision_recall_fscore_support(y_test, y_predict, average='macro')\n",
    "    print(confusion_matrix(y_test, y_predict))\n",
    "    xg_result.append({'acc_score': acc_score, 'precision': precision, 'recall': recall, 'f1': f1 })"
   ]
  },
  {
   "cell_type": "code",
   "execution_count": 34,
   "metadata": {},
   "outputs": [
    {
     "data": {
      "text/html": [
       "<div>\n",
       "<style scoped>\n",
       "    .dataframe tbody tr th:only-of-type {\n",
       "        vertical-align: middle;\n",
       "    }\n",
       "\n",
       "    .dataframe tbody tr th {\n",
       "        vertical-align: top;\n",
       "    }\n",
       "\n",
       "    .dataframe thead th {\n",
       "        text-align: right;\n",
       "    }\n",
       "</style>\n",
       "<table border=\"1\" class=\"dataframe\">\n",
       "  <thead>\n",
       "    <tr style=\"text-align: right;\">\n",
       "      <th></th>\n",
       "      <th>acc_score</th>\n",
       "      <th>precision</th>\n",
       "      <th>recall</th>\n",
       "      <th>f1</th>\n",
       "    </tr>\n",
       "  </thead>\n",
       "  <tbody>\n",
       "    <tr>\n",
       "      <th>0</th>\n",
       "      <td>0.463553</td>\n",
       "      <td>0.352324</td>\n",
       "      <td>0.234325</td>\n",
       "      <td>0.253923</td>\n",
       "    </tr>\n",
       "    <tr>\n",
       "      <th>1</th>\n",
       "      <td>0.440202</td>\n",
       "      <td>0.444172</td>\n",
       "      <td>0.251383</td>\n",
       "      <td>0.284631</td>\n",
       "    </tr>\n",
       "    <tr>\n",
       "      <th>2</th>\n",
       "      <td>0.905806</td>\n",
       "      <td>0.284938</td>\n",
       "      <td>0.192766</td>\n",
       "      <td>0.219275</td>\n",
       "    </tr>\n",
       "    <tr>\n",
       "      <th>3</th>\n",
       "      <td>0.924582</td>\n",
       "      <td>0.285531</td>\n",
       "      <td>0.221041</td>\n",
       "      <td>0.245191</td>\n",
       "    </tr>\n",
       "    <tr>\n",
       "      <th>4</th>\n",
       "      <td>0.637267</td>\n",
       "      <td>0.221219</td>\n",
       "      <td>0.102148</td>\n",
       "      <td>0.124369</td>\n",
       "    </tr>\n",
       "    <tr>\n",
       "      <th>5</th>\n",
       "      <td>0.667245</td>\n",
       "      <td>0.176283</td>\n",
       "      <td>0.097921</td>\n",
       "      <td>0.115883</td>\n",
       "    </tr>\n",
       "    <tr>\n",
       "      <th>6</th>\n",
       "      <td>0.799148</td>\n",
       "      <td>0.199159</td>\n",
       "      <td>0.131506</td>\n",
       "      <td>0.147538</td>\n",
       "    </tr>\n",
       "    <tr>\n",
       "      <th>7</th>\n",
       "      <td>0.924897</td>\n",
       "      <td>0.198461</td>\n",
       "      <td>0.180049</td>\n",
       "      <td>0.188568</td>\n",
       "    </tr>\n",
       "    <tr>\n",
       "      <th>8</th>\n",
       "      <td>0.734301</td>\n",
       "      <td>0.220215</td>\n",
       "      <td>0.169371</td>\n",
       "      <td>0.161892</td>\n",
       "    </tr>\n",
       "    <tr>\n",
       "      <th>9</th>\n",
       "      <td>0.603660</td>\n",
       "      <td>0.175805</td>\n",
       "      <td>0.120954</td>\n",
       "      <td>0.137753</td>\n",
       "    </tr>\n",
       "  </tbody>\n",
       "</table>\n",
       "</div>"
      ],
      "text/plain": [
       "   acc_score  precision    recall        f1\n",
       "0   0.463553   0.352324  0.234325  0.253923\n",
       "1   0.440202   0.444172  0.251383  0.284631\n",
       "2   0.905806   0.284938  0.192766  0.219275\n",
       "3   0.924582   0.285531  0.221041  0.245191\n",
       "4   0.637267   0.221219  0.102148  0.124369\n",
       "5   0.667245   0.176283  0.097921  0.115883\n",
       "6   0.799148   0.199159  0.131506  0.147538\n",
       "7   0.924897   0.198461  0.180049  0.188568\n",
       "8   0.734301   0.220215  0.169371  0.161892\n",
       "9   0.603660   0.175805  0.120954  0.137753"
      ]
     },
     "execution_count": 34,
     "metadata": {},
     "output_type": "execute_result"
    }
   ],
   "source": [
    "pd.DataFrame(xg_result)"
   ]
  },
  {
   "cell_type": "markdown",
   "metadata": {},
   "source": [
    "### Overall Score\n",
    "\n",
    "F1 shows a range of [0.13, 0.29]. Not bad for not reading a financial statement. \n",
    "I believe model can be improved. And part of the futurework is to improve the ratings by integrating SEC footnotes and other technical indicators, such as ATR, volatility factors.\n",
    "\n",
    "Other considerations involve integrating NLP of 3 statements to examine relevancy (That's another project 😊)"
   ]
  },
  {
   "cell_type": "code",
   "execution_count": null,
   "metadata": {},
   "outputs": [],
   "source": []
  }
 ],
 "metadata": {
  "kernelspec": {
   "display_name": "Python 3",
   "language": "python",
   "name": "python3"
  },
  "language_info": {
   "codemirror_mode": {
    "name": "ipython",
    "version": 3
   },
   "file_extension": ".py",
   "mimetype": "text/x-python",
   "name": "python",
   "nbconvert_exporter": "python",
   "pygments_lexer": "ipython3",
   "version": "3.7.7"
  }
 },
 "nbformat": 4,
 "nbformat_minor": 4
}
